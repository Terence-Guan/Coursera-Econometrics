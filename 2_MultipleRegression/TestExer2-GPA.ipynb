{
 "cells": [
  {
   "cell_type": "code",
   "execution_count": 3,
   "metadata": {},
   "outputs": [],
   "source": [
    "# import packages for the analysis\n",
    "import pandas as pd\n",
    "import numpy as np\n",
    "import matplotlib.pyplot as plt\n",
    "import seaborn as sns\n",
    "%matplotlib inline\n",
    "\n",
    "import statsmodels.formula.api as smf"
   ]
  },
  {
   "cell_type": "markdown",
   "metadata": {},
   "source": [
    "# Data Import and Visulization"
   ]
  },
  {
   "cell_type": "code",
   "execution_count": 17,
   "metadata": {},
   "outputs": [
    {
     "data": {
      "text/html": [
       "<div>\n",
       "<style scoped>\n",
       "    .dataframe tbody tr th:only-of-type {\n",
       "        vertical-align: middle;\n",
       "    }\n",
       "\n",
       "    .dataframe tbody tr th {\n",
       "        vertical-align: top;\n",
       "    }\n",
       "\n",
       "    .dataframe thead th {\n",
       "        text-align: right;\n",
       "    }\n",
       "</style>\n",
       "<table border=\"1\" class=\"dataframe\">\n",
       "  <thead>\n",
       "    <tr style=\"text-align: right;\">\n",
       "      <th></th>\n",
       "      <th>Observ.</th>\n",
       "      <th>FGPA</th>\n",
       "      <th>SATM</th>\n",
       "      <th>SATV</th>\n",
       "      <th>FEM</th>\n",
       "    </tr>\n",
       "  </thead>\n",
       "  <tbody>\n",
       "    <tr>\n",
       "      <td>0</td>\n",
       "      <td>1</td>\n",
       "      <td>2.518</td>\n",
       "      <td>4.0</td>\n",
       "      <td>4.0</td>\n",
       "      <td>1</td>\n",
       "    </tr>\n",
       "    <tr>\n",
       "      <td>1</td>\n",
       "      <td>2</td>\n",
       "      <td>2.326</td>\n",
       "      <td>4.9</td>\n",
       "      <td>3.1</td>\n",
       "      <td>0</td>\n",
       "    </tr>\n",
       "    <tr>\n",
       "      <td>2</td>\n",
       "      <td>3</td>\n",
       "      <td>3.003</td>\n",
       "      <td>4.4</td>\n",
       "      <td>4.0</td>\n",
       "      <td>1</td>\n",
       "    </tr>\n",
       "    <tr>\n",
       "      <td>3</td>\n",
       "      <td>4</td>\n",
       "      <td>2.111</td>\n",
       "      <td>4.9</td>\n",
       "      <td>3.9</td>\n",
       "      <td>0</td>\n",
       "    </tr>\n",
       "    <tr>\n",
       "      <td>4</td>\n",
       "      <td>5</td>\n",
       "      <td>2.145</td>\n",
       "      <td>4.3</td>\n",
       "      <td>4.7</td>\n",
       "      <td>0</td>\n",
       "    </tr>\n",
       "    <tr>\n",
       "      <td>...</td>\n",
       "      <td>...</td>\n",
       "      <td>...</td>\n",
       "      <td>...</td>\n",
       "      <td>...</td>\n",
       "      <td>...</td>\n",
       "    </tr>\n",
       "    <tr>\n",
       "      <td>604</td>\n",
       "      <td>605</td>\n",
       "      <td>3.880</td>\n",
       "      <td>7.3</td>\n",
       "      <td>7.1</td>\n",
       "      <td>0</td>\n",
       "    </tr>\n",
       "    <tr>\n",
       "      <td>605</td>\n",
       "      <td>606</td>\n",
       "      <td>3.678</td>\n",
       "      <td>7.8</td>\n",
       "      <td>7.0</td>\n",
       "      <td>1</td>\n",
       "    </tr>\n",
       "    <tr>\n",
       "      <td>606</td>\n",
       "      <td>607</td>\n",
       "      <td>3.581</td>\n",
       "      <td>7.8</td>\n",
       "      <td>7.1</td>\n",
       "      <td>0</td>\n",
       "    </tr>\n",
       "    <tr>\n",
       "      <td>607</td>\n",
       "      <td>608</td>\n",
       "      <td>2.973</td>\n",
       "      <td>7.4</td>\n",
       "      <td>7.6</td>\n",
       "      <td>0</td>\n",
       "    </tr>\n",
       "    <tr>\n",
       "      <td>608</td>\n",
       "      <td>609</td>\n",
       "      <td>3.276</td>\n",
       "      <td>7.8</td>\n",
       "      <td>7.4</td>\n",
       "      <td>1</td>\n",
       "    </tr>\n",
       "  </tbody>\n",
       "</table>\n",
       "<p>609 rows × 5 columns</p>\n",
       "</div>"
      ],
      "text/plain": [
       "     Observ.   FGPA  SATM  SATV  FEM\n",
       "0          1  2.518   4.0   4.0    1\n",
       "1          2  2.326   4.9   3.1    0\n",
       "2          3  3.003   4.4   4.0    1\n",
       "3          4  2.111   4.9   3.9    0\n",
       "4          5  2.145   4.3   4.7    0\n",
       "..       ...    ...   ...   ...  ...\n",
       "604      605  3.880   7.3   7.1    0\n",
       "605      606  3.678   7.8   7.0    1\n",
       "606      607  3.581   7.8   7.1    0\n",
       "607      608  2.973   7.4   7.6    0\n",
       "608      609  3.276   7.8   7.4    1\n",
       "\n",
       "[609 rows x 5 columns]"
      ]
     },
     "execution_count": 17,
     "metadata": {},
     "output_type": "execute_result"
    }
   ],
   "source": [
    "GPA = pd.read_table('TestExer2-GPA.txt')\n",
    "GPA"
   ]
  },
  {
   "cell_type": "code",
   "execution_count": 5,
   "metadata": {},
   "outputs": [
    {
     "data": {
      "text/plain": [
       "<matplotlib.axes._subplots.AxesSubplot at 0x1cfb8be0048>"
      ]
     },
     "execution_count": 5,
     "metadata": {},
     "output_type": "execute_result"
    },
    {
     "data": {
      "image/png": "[encoded data removed]",
      "text/plain": [
       "<Figure size 1152x576 with 3 Axes>"
      ]
     },
     "metadata": {
      "needs_background": "light"
     },
     "output_type": "display_data"
    }
   ],
   "source": [
    "# visualize the relationship between the features and the response using scatterplots\n",
    "fig, axs = plt.subplots(1, 3, sharey=True)\n",
    "GPA.plot(kind='scatter', x='SATM', y='FGPA', ax=axs[0], figsize=(16, 8))\n",
    "GPA.plot(kind='scatter', x='SATV', y='FGPA', ax=axs[1])\n",
    "GPA.plot(kind='scatter', x='FEM', y='FGPA', ax=axs[2])"
   ]
  },
  {
   "cell_type": "markdown",
   "metadata": {},
   "source": [
    "# (a) Simple Regression\n",
    "## Parameters and Regression Line"
   ]
  },
  {
   "cell_type": "code",
   "execution_count": 6,
   "metadata": {},
   "outputs": [
    {
     "data": {
      "text/plain": [
       "Intercept    2.441732\n",
       "SATV         0.063086\n",
       "dtype: float64"
      ]
     },
     "execution_count": 6,
     "metadata": {},
     "output_type": "execute_result"
    }
   ],
   "source": [
    "# create a fitted model\n",
    "slm = smf.ols(formula='FGPA ~ SATV', data=GPA).fit()\n",
    "\n",
    "# print the coefficients\n",
    "slm.params"
   ]
  },
  {
   "cell_type": "code",
   "execution_count": 7,
   "metadata": {},
   "outputs": [
    {
     "data": {
      "text/html": [
       "<table class=\"simpletable\">\n",
       "<caption>OLS Regression Results</caption>\n",
       "<tr>\n",
       "  <th>Dep. Variable:</th>          <td>FGPA</td>       <th>  R-squared:         </th> <td>   0.008</td>\n",
       "</tr>\n",
       "<tr>\n",
       "  <th>Model:</th>                   <td>OLS</td>       <th>  Adj. R-squared:    </th> <td>   0.007</td>\n",
       "</tr>\n",
       "<tr>\n",
       "  <th>Method:</th>             <td>Least Squares</td>  <th>  F-statistic:       </th> <td>   5.201</td>\n",
       "</tr>\n",
       "<tr>\n",
       "  <th>Date:</th>             <td>Sun, 22 Sep 2019</td> <th>  Prob (F-statistic):</th>  <td>0.0229</td> \n",
       "</tr>\n",
       "<tr>\n",
       "  <th>Time:</th>                 <td>20:50:07</td>     <th>  Log-Likelihood:    </th> <td> -388.44</td>\n",
       "</tr>\n",
       "<tr>\n",
       "  <th>No. Observations:</th>      <td>   609</td>      <th>  AIC:               </th> <td>   780.9</td>\n",
       "</tr>\n",
       "<tr>\n",
       "  <th>Df Residuals:</th>          <td>   607</td>      <th>  BIC:               </th> <td>   789.7</td>\n",
       "</tr>\n",
       "<tr>\n",
       "  <th>Df Model:</th>              <td>     1</td>      <th>                     </th>     <td> </td>   \n",
       "</tr>\n",
       "<tr>\n",
       "  <th>Covariance Type:</th>      <td>nonrobust</td>    <th>                     </th>     <td> </td>   \n",
       "</tr>\n",
       "</table>\n",
       "<table class=\"simpletable\">\n",
       "<tr>\n",
       "      <td></td>         <th>coef</th>     <th>std err</th>      <th>t</th>      <th>P>|t|</th>  <th>[0.025</th>    <th>0.975]</th>  \n",
       "</tr>\n",
       "<tr>\n",
       "  <th>Intercept</th> <td>    2.4417</td> <td>    0.155</td> <td>   15.747</td> <td> 0.000</td> <td>    2.137</td> <td>    2.746</td>\n",
       "</tr>\n",
       "<tr>\n",
       "  <th>SATV</th>      <td>    0.0631</td> <td>    0.028</td> <td>    2.280</td> <td> 0.023</td> <td>    0.009</td> <td>    0.117</td>\n",
       "</tr>\n",
       "</table>\n",
       "<table class=\"simpletable\">\n",
       "<tr>\n",
       "  <th>Omnibus:</th>       <td>11.335</td> <th>  Durbin-Watson:     </th> <td>   1.949</td>\n",
       "</tr>\n",
       "<tr>\n",
       "  <th>Prob(Omnibus):</th> <td> 0.003</td> <th>  Jarque-Bera (JB):  </th> <td>   7.694</td>\n",
       "</tr>\n",
       "<tr>\n",
       "  <th>Skew:</th>          <td> 0.138</td> <th>  Prob(JB):          </th> <td>  0.0213</td>\n",
       "</tr>\n",
       "<tr>\n",
       "  <th>Kurtosis:</th>      <td> 2.524</td> <th>  Cond. No.          </th> <td>    48.2</td>\n",
       "</tr>\n",
       "</table><br/><br/>Warnings:<br/>[1] Standard Errors assume that the covariance matrix of the errors is correctly specified."
      ],
      "text/plain": [
       "<class 'statsmodels.iolib.summary.Summary'>\n",
       "\"\"\"\n",
       "                            OLS Regression Results                            \n",
       "==============================================================================\n",
       "Dep. Variable:                   FGPA   R-squared:                       0.008\n",
       "Model:                            OLS   Adj. R-squared:                  0.007\n",
       "Method:                 Least Squares   F-statistic:                     5.201\n",
       "Date:                Sun, 22 Sep 2019   Prob (F-statistic):             0.0229\n",
       "Time:                        20:50:07   Log-Likelihood:                -388.44\n",
       "No. Observations:                 609   AIC:                             780.9\n",
       "Df Residuals:                     607   BIC:                             789.7\n",
       "Df Model:                           1                                         \n",
       "Covariance Type:            nonrobust                                         \n",
       "==============================================================================\n",
       "                 coef    std err          t      P>|t|      [0.025      0.975]\n",
       "------------------------------------------------------------------------------\n",
       "Intercept      2.4417      0.155     15.747      0.000       2.137       2.746\n",
       "SATV           0.0631      0.028      2.280      0.023       0.009       0.117\n",
       "==============================================================================\n",
       "Omnibus:                       11.335   Durbin-Watson:                   1.949\n",
       "Prob(Omnibus):                  0.003   Jarque-Bera (JB):                7.694\n",
       "Skew:                           0.138   Prob(JB):                       0.0213\n",
       "Kurtosis:                       2.524   Cond. No.                         48.2\n",
       "==============================================================================\n",
       "\n",
       "Warnings:\n",
       "[1] Standard Errors assume that the covariance matrix of the errors is correctly specified.\n",
       "\"\"\""
      ]
     },
     "execution_count": 7,
     "metadata": {},
     "output_type": "execute_result"
    }
   ],
   "source": [
    "slm.summary()"
   ]
  },
  {
   "cell_type": "code",
   "execution_count": 8,
   "metadata": {},
   "outputs": [
    {
     "data": {
      "text/html": [
       "<div>\n",
       "<style scoped>\n",
       "    .dataframe tbody tr th:only-of-type {\n",
       "        vertical-align: middle;\n",
       "    }\n",
       "\n",
       "    .dataframe tbody tr th {\n",
       "        vertical-align: top;\n",
       "    }\n",
       "\n",
       "    .dataframe thead th {\n",
       "        text-align: right;\n",
       "    }\n",
       "</style>\n",
       "<table border=\"1\" class=\"dataframe\">\n",
       "  <thead>\n",
       "    <tr style=\"text-align: right;\">\n",
       "      <th></th>\n",
       "      <th>0</th>\n",
       "      <th>1</th>\n",
       "    </tr>\n",
       "  </thead>\n",
       "  <tbody>\n",
       "    <tr>\n",
       "      <td>Intercept</td>\n",
       "      <td>2.137209</td>\n",
       "      <td>2.746256</td>\n",
       "    </tr>\n",
       "    <tr>\n",
       "      <td>SATV</td>\n",
       "      <td>0.008758</td>\n",
       "      <td>0.117414</td>\n",
       "    </tr>\n",
       "  </tbody>\n",
       "</table>\n",
       "</div>"
      ],
      "text/plain": [
       "                  0         1\n",
       "Intercept  2.137209  2.746256\n",
       "SATV       0.008758  0.117414"
      ]
     },
     "execution_count": 8,
     "metadata": {},
     "output_type": "execute_result"
    }
   ],
   "source": [
    "slm.conf_int()"
   ]
  },
  {
   "cell_type": "code",
   "execution_count": 9,
   "metadata": {},
   "outputs": [
    {
     "data": {
      "text/plain": [
       "[<matplotlib.lines.Line2D at 0x1cfb8f729b0>]"
      ]
     },
     "execution_count": 9,
     "metadata": {},
     "output_type": "execute_result"
    },
    {
     "data": {
      "image/png": "[encoded data removed]",
      "text/plain": [
       "<Figure size 432x288 with 1 Axes>"
      ]
     },
     "metadata": {
      "needs_background": "light"
     },
     "output_type": "display_data"
    }
   ],
   "source": [
    "# create a DataFrame with the minimum and maximum values of T\n",
    "SATV_new = pd.DataFrame({'SATV': [GPA.SATV.min(), GPA.SATV.max()]})\n",
    "# make predictions for those x values and store them\n",
    "preds = slm.predict(SATV_new)\n",
    "\n",
    "# first, plot the observed data\n",
    "GPA.plot(kind='scatter', x='SATV', y='FGPA')\n",
    "# then, plot the least squares line\n",
    "plt.plot(SATV_new, preds, c='red', linewidth=2)"
   ]
  },
  {
   "cell_type": "markdown",
   "metadata": {},
   "source": [
    "## Prediction intervals for mean response and response observations"
   ]
  },
  {
   "cell_type": "code",
   "execution_count": 10,
   "metadata": {},
   "outputs": [
    {
     "data": {
      "text/html": [
       "<div>\n",
       "<style scoped>\n",
       "    .dataframe tbody tr th:only-of-type {\n",
       "        vertical-align: middle;\n",
       "    }\n",
       "\n",
       "    .dataframe tbody tr th {\n",
       "        vertical-align: top;\n",
       "    }\n",
       "\n",
       "    .dataframe thead th {\n",
       "        text-align: right;\n",
       "    }\n",
       "</style>\n",
       "<table border=\"1\" class=\"dataframe\">\n",
       "  <thead>\n",
       "    <tr style=\"text-align: right;\">\n",
       "      <th></th>\n",
       "      <th>0</th>\n",
       "      <th>1</th>\n",
       "      <th>2</th>\n",
       "      <th>3</th>\n",
       "      <th>4</th>\n",
       "      <th>5</th>\n",
       "      <th>6</th>\n",
       "      <th>7</th>\n",
       "      <th>8</th>\n",
       "      <th>9</th>\n",
       "      <th>10</th>\n",
       "      <th>11</th>\n",
       "    </tr>\n",
       "  </thead>\n",
       "  <tbody>\n",
       "    <tr>\n",
       "      <td>0</td>\n",
       "      <td>1.0</td>\n",
       "      <td>2.518</td>\n",
       "      <td>2.694076</td>\n",
       "      <td>0.047111</td>\n",
       "      <td>2.601556</td>\n",
       "      <td>2.786596</td>\n",
       "      <td>1.788592</td>\n",
       "      <td>3.599560</td>\n",
       "      <td>-0.176076</td>\n",
       "      <td>0.456230</td>\n",
       "      <td>-0.385937</td>\n",
       "      <td>0.000794</td>\n",
       "    </tr>\n",
       "    <tr>\n",
       "      <td>1</td>\n",
       "      <td>2.0</td>\n",
       "      <td>2.326</td>\n",
       "      <td>2.637299</td>\n",
       "      <td>0.070675</td>\n",
       "      <td>2.498502</td>\n",
       "      <td>2.776095</td>\n",
       "      <td>1.725923</td>\n",
       "      <td>3.548674</td>\n",
       "      <td>-0.311299</td>\n",
       "      <td>0.453178</td>\n",
       "      <td>-0.686923</td>\n",
       "      <td>0.005738</td>\n",
       "    </tr>\n",
       "    <tr>\n",
       "      <td>2</td>\n",
       "      <td>3.0</td>\n",
       "      <td>3.003</td>\n",
       "      <td>2.694076</td>\n",
       "      <td>0.047111</td>\n",
       "      <td>2.601556</td>\n",
       "      <td>2.786596</td>\n",
       "      <td>1.788592</td>\n",
       "      <td>3.599560</td>\n",
       "      <td>0.308924</td>\n",
       "      <td>0.456230</td>\n",
       "      <td>0.677124</td>\n",
       "      <td>0.002444</td>\n",
       "    </tr>\n",
       "    <tr>\n",
       "      <td>3</td>\n",
       "      <td>4.0</td>\n",
       "      <td>2.111</td>\n",
       "      <td>2.687767</td>\n",
       "      <td>0.049665</td>\n",
       "      <td>2.590232</td>\n",
       "      <td>2.785303</td>\n",
       "      <td>1.781757</td>\n",
       "      <td>3.593778</td>\n",
       "      <td>-0.576767</td>\n",
       "      <td>0.455959</td>\n",
       "      <td>-1.264954</td>\n",
       "      <td>0.009492</td>\n",
       "    </tr>\n",
       "    <tr>\n",
       "      <td>4</td>\n",
       "      <td>5.0</td>\n",
       "      <td>2.145</td>\n",
       "      <td>2.738236</td>\n",
       "      <td>0.030296</td>\n",
       "      <td>2.678738</td>\n",
       "      <td>2.797733</td>\n",
       "      <td>1.835528</td>\n",
       "      <td>3.640944</td>\n",
       "      <td>-0.593236</td>\n",
       "      <td>0.457654</td>\n",
       "      <td>-1.296254</td>\n",
       "      <td>0.003682</td>\n",
       "    </tr>\n",
       "    <tr>\n",
       "      <td>...</td>\n",
       "      <td>...</td>\n",
       "      <td>...</td>\n",
       "      <td>...</td>\n",
       "      <td>...</td>\n",
       "      <td>...</td>\n",
       "      <td>...</td>\n",
       "      <td>...</td>\n",
       "      <td>...</td>\n",
       "      <td>...</td>\n",
       "      <td>...</td>\n",
       "      <td>...</td>\n",
       "      <td>...</td>\n",
       "    </tr>\n",
       "    <tr>\n",
       "      <td>604</td>\n",
       "      <td>605.0</td>\n",
       "      <td>3.880</td>\n",
       "      <td>2.889642</td>\n",
       "      <td>0.046356</td>\n",
       "      <td>2.798604</td>\n",
       "      <td>2.980680</td>\n",
       "      <td>1.984308</td>\n",
       "      <td>3.794976</td>\n",
       "      <td>0.990358</td>\n",
       "      <td>0.456307</td>\n",
       "      <td>2.170375</td>\n",
       "      <td>0.024308</td>\n",
       "    </tr>\n",
       "    <tr>\n",
       "      <td>605</td>\n",
       "      <td>606.0</td>\n",
       "      <td>3.678</td>\n",
       "      <td>2.883333</td>\n",
       "      <td>0.043836</td>\n",
       "      <td>2.797244</td>\n",
       "      <td>2.969422</td>\n",
       "      <td>1.978484</td>\n",
       "      <td>3.788183</td>\n",
       "      <td>0.794667</td>\n",
       "      <td>0.456556</td>\n",
       "      <td>1.740567</td>\n",
       "      <td>0.013965</td>\n",
       "    </tr>\n",
       "    <tr>\n",
       "      <td>606</td>\n",
       "      <td>607.0</td>\n",
       "      <td>3.581</td>\n",
       "      <td>2.889642</td>\n",
       "      <td>0.046356</td>\n",
       "      <td>2.798604</td>\n",
       "      <td>2.980680</td>\n",
       "      <td>1.984308</td>\n",
       "      <td>3.794976</td>\n",
       "      <td>0.691358</td>\n",
       "      <td>0.456307</td>\n",
       "      <td>1.515115</td>\n",
       "      <td>0.011846</td>\n",
       "    </tr>\n",
       "    <tr>\n",
       "      <td>607</td>\n",
       "      <td>608.0</td>\n",
       "      <td>2.973</td>\n",
       "      <td>2.921185</td>\n",
       "      <td>0.059288</td>\n",
       "      <td>2.804751</td>\n",
       "      <td>3.037619</td>\n",
       "      <td>2.012946</td>\n",
       "      <td>3.829424</td>\n",
       "      <td>0.051815</td>\n",
       "      <td>0.454808</td>\n",
       "      <td>0.113927</td>\n",
       "      <td>0.000110</td>\n",
       "    </tr>\n",
       "    <tr>\n",
       "      <td>608</td>\n",
       "      <td>609.0</td>\n",
       "      <td>3.276</td>\n",
       "      <td>2.908568</td>\n",
       "      <td>0.054062</td>\n",
       "      <td>2.802397</td>\n",
       "      <td>3.014739</td>\n",
       "      <td>2.001587</td>\n",
       "      <td>3.815548</td>\n",
       "      <td>0.367432</td>\n",
       "      <td>0.455459</td>\n",
       "      <td>0.806730</td>\n",
       "      <td>0.004585</td>\n",
       "    </tr>\n",
       "  </tbody>\n",
       "</table>\n",
       "<p>609 rows × 12 columns</p>\n",
       "</div>"
      ],
      "text/plain": [
       "         0      1         2         3         4         5         6         7  \\\n",
       "0      1.0  2.518  2.694076  0.047111  2.601556  2.786596  1.788592  3.599560   \n",
       "1      2.0  2.326  2.637299  0.070675  2.498502  2.776095  1.725923  3.548674   \n",
       "2      3.0  3.003  2.694076  0.047111  2.601556  2.786596  1.788592  3.599560   \n",
       "3      4.0  2.111  2.687767  0.049665  2.590232  2.785303  1.781757  3.593778   \n",
       "4      5.0  2.145  2.738236  0.030296  2.678738  2.797733  1.835528  3.640944   \n",
       "..     ...    ...       ...       ...       ...       ...       ...       ...   \n",
       "604  605.0  3.880  2.889642  0.046356  2.798604  2.980680  1.984308  3.794976   \n",
       "605  606.0  3.678  2.883333  0.043836  2.797244  2.969422  1.978484  3.788183   \n",
       "606  607.0  3.581  2.889642  0.046356  2.798604  2.980680  1.984308  3.794976   \n",
       "607  608.0  2.973  2.921185  0.059288  2.804751  3.037619  2.012946  3.829424   \n",
       "608  609.0  3.276  2.908568  0.054062  2.802397  3.014739  2.001587  3.815548   \n",
       "\n",
       "            8         9        10        11  \n",
       "0   -0.176076  0.456230 -0.385937  0.000794  \n",
       "1   -0.311299  0.453178 -0.686923  0.005738  \n",
       "2    0.308924  0.456230  0.677124  0.002444  \n",
       "3   -0.576767  0.455959 -1.264954  0.009492  \n",
       "4   -0.593236  0.457654 -1.296254  0.003682  \n",
       "..        ...       ...       ...       ...  \n",
       "604  0.990358  0.456307  2.170375  0.024308  \n",
       "605  0.794667  0.456556  1.740567  0.013965  \n",
       "606  0.691358  0.456307  1.515115  0.011846  \n",
       "607  0.051815  0.454808  0.113927  0.000110  \n",
       "608  0.367432  0.455459  0.806730  0.004585  \n",
       "\n",
       "[609 rows x 12 columns]"
      ]
     },
     "execution_count": 10,
     "metadata": {},
     "output_type": "execute_result"
    }
   ],
   "source": [
    "from statsmodels.stats.outliers_influence import summary_table\n",
    "\n",
    "# get the summary results from the linear regression fit\n",
    "st, sdata, ss2 = summary_table(slm, alpha=0.05)\n",
    "pd.DataFrame(sdata)"
   ]
  },
  {
   "cell_type": "code",
   "execution_count": 11,
   "metadata": {},
   "outputs": [
    {
     "data": {
      "text/plain": [
       "<matplotlib.collections.PolyCollection at 0x1cfb8f56630>"
      ]
     },
     "execution_count": 11,
     "metadata": {},
     "output_type": "execute_result"
    },
    {
     "data": {
      "image/png": "[encoded data removed]",
      "text/plain": [
       "<Figure size 432x432 with 1 Axes>"
      ]
     },
     "metadata": {
      "needs_background": "light"
     },
     "output_type": "display_data"
    }
   ],
   "source": [
    "# fitted values by the model\n",
    "fittedvalues = sdata[:,2]\n",
    "# standard deviation of the predicted means\n",
    "predict_mean_se  = sdata[:,3] \n",
    "# lower and upper limits for the predicted means\n",
    "predict_mean_ci_low, predict_mean_ci_upp = sdata[:,4:6].T  \n",
    "# lower and upper limits for the predicted observations\n",
    "predict_ci_low, predict_ci_upp = sdata[:,6:8].T \n",
    "\n",
    "## Method 2\n",
    "# the observation interval can be obtained by built-in function as follows\n",
    "# from statsmodels.sandbox.regression.predstd import wls_prediction_std\n",
    "# prstd, predict_ci_low, predict_ci_upp = wls_prediction_std(lm)\n",
    "\n",
    "## plot the prediction interval\n",
    "fig, ax = plt.subplots(figsize=(6, 6))\n",
    "SATV_pred = GPA['SATV'];\n",
    "idx = np.argsort(SATV_pred)\n",
    "# numpy.argsort() returns the indices that would sort an array\n",
    "ax.scatter(SATV_pred, GPA['FGPA'])\n",
    "fig.suptitle('Prediction Intervals')\n",
    "fig.tight_layout(pad=2); \n",
    "ax.grid(True)\n",
    "ax.plot(SATV_pred.iloc[idx], fittedvalues[idx], '-', color='red', linewidth=2)\n",
    "# interval for observations\n",
    "ax.fill_between(SATV_pred.iloc[idx], predict_ci_low[idx], predict_ci_upp[idx], color='#888888', alpha=0.2)\n",
    "# interval for mean responses\n",
    "ax.fill_between(SATV_pred.iloc[idx], predict_mean_ci_low[idx], predict_mean_ci_upp[idx], color='#888888', alpha=0.6)"
   ]
  },
  {
   "cell_type": "markdown",
   "metadata": {},
   "source": [
    "# (b) Multipla Regression\n",
    "## Estimating Model Parameters"
   ]
  },
  {
   "cell_type": "code",
   "execution_count": 12,
   "metadata": {},
   "outputs": [
    {
     "data": {
      "text/html": [
       "<table class=\"simpletable\">\n",
       "<caption>OLS Regression Results</caption>\n",
       "<tr>\n",
       "  <th>Dep. Variable:</th>          <td>FGPA</td>       <th>  R-squared:         </th> <td>   0.083</td>\n",
       "</tr>\n",
       "<tr>\n",
       "  <th>Model:</th>                   <td>OLS</td>       <th>  Adj. R-squared:    </th> <td>   0.078</td>\n",
       "</tr>\n",
       "<tr>\n",
       "  <th>Method:</th>             <td>Least Squares</td>  <th>  F-statistic:       </th> <td>   18.24</td>\n",
       "</tr>\n",
       "<tr>\n",
       "  <th>Date:</th>             <td>Sun, 22 Sep 2019</td> <th>  Prob (F-statistic):</th> <td>2.41e-11</td>\n",
       "</tr>\n",
       "<tr>\n",
       "  <th>Time:</th>                 <td>20:50:09</td>     <th>  Log-Likelihood:    </th> <td> -364.67</td>\n",
       "</tr>\n",
       "<tr>\n",
       "  <th>No. Observations:</th>      <td>   609</td>      <th>  AIC:               </th> <td>   737.3</td>\n",
       "</tr>\n",
       "<tr>\n",
       "  <th>Df Residuals:</th>          <td>   605</td>      <th>  BIC:               </th> <td>   755.0</td>\n",
       "</tr>\n",
       "<tr>\n",
       "  <th>Df Model:</th>              <td>     3</td>      <th>                     </th>     <td> </td>   \n",
       "</tr>\n",
       "<tr>\n",
       "  <th>Covariance Type:</th>      <td>nonrobust</td>    <th>                     </th>     <td> </td>   \n",
       "</tr>\n",
       "</table>\n",
       "<table class=\"simpletable\">\n",
       "<tr>\n",
       "      <td></td>         <th>coef</th>     <th>std err</th>      <th>t</th>      <th>P>|t|</th>  <th>[0.025</th>    <th>0.975]</th>  \n",
       "</tr>\n",
       "<tr>\n",
       "  <th>Intercept</th> <td>    1.5570</td> <td>    0.216</td> <td>    7.205</td> <td> 0.000</td> <td>    1.133</td> <td>    1.981</td>\n",
       "</tr>\n",
       "<tr>\n",
       "  <th>SATM</th>      <td>    0.1727</td> <td>    0.032</td> <td>    5.410</td> <td> 0.000</td> <td>    0.110</td> <td>    0.235</td>\n",
       "</tr>\n",
       "<tr>\n",
       "  <th>SATV</th>      <td>    0.0142</td> <td>    0.028</td> <td>    0.507</td> <td> 0.612</td> <td>   -0.041</td> <td>    0.069</td>\n",
       "</tr>\n",
       "<tr>\n",
       "  <th>FEM</th>       <td>    0.2003</td> <td>    0.037</td> <td>    5.358</td> <td> 0.000</td> <td>    0.127</td> <td>    0.274</td>\n",
       "</tr>\n",
       "</table>\n",
       "<table class=\"simpletable\">\n",
       "<tr>\n",
       "  <th>Omnibus:</th>       <td> 7.757</td> <th>  Durbin-Watson:     </th> <td>   1.912</td>\n",
       "</tr>\n",
       "<tr>\n",
       "  <th>Prob(Omnibus):</th> <td> 0.021</td> <th>  Jarque-Bera (JB):  </th> <td>   5.727</td>\n",
       "</tr>\n",
       "<tr>\n",
       "  <th>Skew:</th>          <td> 0.118</td> <th>  Prob(JB):          </th> <td>  0.0571</td>\n",
       "</tr>\n",
       "<tr>\n",
       "  <th>Kurtosis:</th>      <td> 2.588</td> <th>  Cond. No.          </th> <td>    103.</td>\n",
       "</tr>\n",
       "</table><br/><br/>Warnings:<br/>[1] Standard Errors assume that the covariance matrix of the errors is correctly specified."
      ],
      "text/plain": [
       "<class 'statsmodels.iolib.summary.Summary'>\n",
       "\"\"\"\n",
       "                            OLS Regression Results                            \n",
       "==============================================================================\n",
       "Dep. Variable:                   FGPA   R-squared:                       0.083\n",
       "Model:                            OLS   Adj. R-squared:                  0.078\n",
       "Method:                 Least Squares   F-statistic:                     18.24\n",
       "Date:                Sun, 22 Sep 2019   Prob (F-statistic):           2.41e-11\n",
       "Time:                        20:50:09   Log-Likelihood:                -364.67\n",
       "No. Observations:                 609   AIC:                             737.3\n",
       "Df Residuals:                     605   BIC:                             755.0\n",
       "Df Model:                           3                                         \n",
       "Covariance Type:            nonrobust                                         \n",
       "==============================================================================\n",
       "                 coef    std err          t      P>|t|      [0.025      0.975]\n",
       "------------------------------------------------------------------------------\n",
       "Intercept      1.5570      0.216      7.205      0.000       1.133       1.981\n",
       "SATM           0.1727      0.032      5.410      0.000       0.110       0.235\n",
       "SATV           0.0142      0.028      0.507      0.612      -0.041       0.069\n",
       "FEM            0.2003      0.037      5.358      0.000       0.127       0.274\n",
       "==============================================================================\n",
       "Omnibus:                        7.757   Durbin-Watson:                   1.912\n",
       "Prob(Omnibus):                  0.021   Jarque-Bera (JB):                5.727\n",
       "Skew:                           0.118   Prob(JB):                       0.0571\n",
       "Kurtosis:                       2.588   Cond. No.                         103.\n",
       "==============================================================================\n",
       "\n",
       "Warnings:\n",
       "[1] Standard Errors assume that the covariance matrix of the errors is correctly specified.\n",
       "\"\"\""
      ]
     },
     "execution_count": 12,
     "metadata": {},
     "output_type": "execute_result"
    }
   ],
   "source": [
    "# create a fitted model\n",
    "mlm = smf.ols(formula='FGPA ~ SATM+SATV+FEM', data=GPA).fit()\n",
    "\n",
    "# print the coefficients\n",
    "mlm.summary()"
   ]
  },
  {
   "cell_type": "code",
   "execution_count": 33,
   "metadata": {},
   "outputs": [
    {
     "data": {
      "text/html": [
       "<div>\n",
       "<style scoped>\n",
       "    .dataframe tbody tr th:only-of-type {\n",
       "        vertical-align: middle;\n",
       "    }\n",
       "\n",
       "    .dataframe tbody tr th {\n",
       "        vertical-align: top;\n",
       "    }\n",
       "\n",
       "    .dataframe thead th {\n",
       "        text-align: right;\n",
       "    }\n",
       "</style>\n",
       "<table border=\"1\" class=\"dataframe\">\n",
       "  <thead>\n",
       "    <tr style=\"text-align: right;\">\n",
       "      <th></th>\n",
       "      <th>Intercept</th>\n",
       "      <th>SATM</th>\n",
       "      <th>SATV</th>\n",
       "      <th>FEM</th>\n",
       "    </tr>\n",
       "  </thead>\n",
       "  <tbody>\n",
       "    <tr>\n",
       "      <td>Intercept</td>\n",
       "      <td>0.046697</td>\n",
       "      <td>-0.004977</td>\n",
       "      <td>-0.002649</td>\n",
       "      <td>-0.001390</td>\n",
       "    </tr>\n",
       "    <tr>\n",
       "      <td>SATM</td>\n",
       "      <td>-0.004977</td>\n",
       "      <td>0.001019</td>\n",
       "      <td>-0.000265</td>\n",
       "      <td>0.000215</td>\n",
       "    </tr>\n",
       "    <tr>\n",
       "      <td>SATV</td>\n",
       "      <td>-0.002649</td>\n",
       "      <td>-0.000265</td>\n",
       "      <td>0.000780</td>\n",
       "      <td>-0.000089</td>\n",
       "    </tr>\n",
       "    <tr>\n",
       "      <td>FEM</td>\n",
       "      <td>-0.001390</td>\n",
       "      <td>0.000215</td>\n",
       "      <td>-0.000089</td>\n",
       "      <td>0.001397</td>\n",
       "    </tr>\n",
       "  </tbody>\n",
       "</table>\n",
       "</div>"
      ],
      "text/plain": [
       "           Intercept      SATM      SATV       FEM\n",
       "Intercept   0.046697 -0.004977 -0.002649 -0.001390\n",
       "SATM       -0.004977  0.001019 -0.000265  0.000215\n",
       "SATV       -0.002649 -0.000265  0.000780 -0.000089\n",
       "FEM        -0.001390  0.000215 -0.000089  0.001397"
      ]
     },
     "execution_count": 33,
     "metadata": {},
     "output_type": "execute_result"
    }
   ],
   "source": [
    "# Get the covariance\n",
    "mlm.cov_params()"
   ]
  },
  {
   "cell_type": "markdown",
   "metadata": {},
   "source": [
    "# (c) Correlations"
   ]
  },
  {
   "cell_type": "code",
   "execution_count": 14,
   "metadata": {},
   "outputs": [
    {
     "data": {
      "text/html": [
       "<div>\n",
       "<style scoped>\n",
       "    .dataframe tbody tr th:only-of-type {\n",
       "        vertical-align: middle;\n",
       "    }\n",
       "\n",
       "    .dataframe tbody tr th {\n",
       "        vertical-align: top;\n",
       "    }\n",
       "\n",
       "    .dataframe thead th {\n",
       "        text-align: right;\n",
       "    }\n",
       "</style>\n",
       "<table border=\"1\" class=\"dataframe\">\n",
       "  <thead>\n",
       "    <tr style=\"text-align: right;\">\n",
       "      <th></th>\n",
       "      <th>FGPA</th>\n",
       "      <th>SATM</th>\n",
       "      <th>SATV</th>\n",
       "      <th>FEM</th>\n",
       "    </tr>\n",
       "  </thead>\n",
       "  <tbody>\n",
       "    <tr>\n",
       "      <td>FGPA</td>\n",
       "      <td>1.000000</td>\n",
       "      <td>0.195040</td>\n",
       "      <td>0.092167</td>\n",
       "      <td>0.176491</td>\n",
       "    </tr>\n",
       "    <tr>\n",
       "      <td>SATM</td>\n",
       "      <td>0.195040</td>\n",
       "      <td>1.000000</td>\n",
       "      <td>0.287801</td>\n",
       "      <td>-0.162680</td>\n",
       "    </tr>\n",
       "    <tr>\n",
       "      <td>SATV</td>\n",
       "      <td>0.092167</td>\n",
       "      <td>0.287801</td>\n",
       "      <td>1.000000</td>\n",
       "      <td>0.033577</td>\n",
       "    </tr>\n",
       "    <tr>\n",
       "      <td>FEM</td>\n",
       "      <td>0.176491</td>\n",
       "      <td>-0.162680</td>\n",
       "      <td>0.033577</td>\n",
       "      <td>1.000000</td>\n",
       "    </tr>\n",
       "  </tbody>\n",
       "</table>\n",
       "</div>"
      ],
      "text/plain": [
       "          FGPA      SATM      SATV       FEM\n",
       "FGPA  1.000000  0.195040  0.092167  0.176491\n",
       "SATM  0.195040  1.000000  0.287801 -0.162680\n",
       "SATV  0.092167  0.287801  1.000000  0.033577\n",
       "FEM   0.176491 -0.162680  0.033577  1.000000"
      ]
     },
     "execution_count": 14,
     "metadata": {},
     "output_type": "execute_result"
    }
   ],
   "source": [
    "# Measure the correlation\n",
    "GPA.iloc[:,1:].corr()"
   ]
  },
  {
   "cell_type": "markdown",
   "metadata": {},
   "source": [
    "# (d) F-test on SATV"
   ]
  },
  {
   "cell_type": "code",
   "execution_count": 40,
   "metadata": {},
   "outputs": [
    {
     "data": {
      "text/plain": [
       "0.25715514284401925"
      ]
     },
     "execution_count": 40,
     "metadata": {},
     "output_type": "execute_result"
    }
   ],
   "source": [
    "# create a restricted fitted model without SATV\n",
    "rmlm = smf.ols(formula='FGPA ~ SATM+FEM', data=GPA).fit()\n",
    "\n",
    "rmlm.summary()"
   ]
  },
  {
   "cell_type": "code",
   "execution_count": 22,
   "metadata": {},
   "outputs": [
    {
     "data": {
      "text/plain": [
       "0.25715514284401925"
      ]
     },
     "execution_count": 22,
     "metadata": {},
     "output_type": "execute_result"
    }
   ],
   "source": [
    "R0_2 = rmlm.rsquared\n",
    "R1_2 = mlm.rsquared\n",
    "F = (R1_2-R0_2)*(609-3)/(1-R1_2)\n",
    "F"
   ]
  }
 ],
 "metadata": {
  "kernelspec": {
   "display_name": "Python 3",
   "language": "python",
   "name": "python3"
  },
  "language_info": {
   "codemirror_mode": {
    "name": "ipython",
    "version": 3
   },
   "file_extension": ".py",
   "mimetype": "text/x-python",
   "name": "python",
   "nbconvert_exporter": "python",
   "pygments_lexer": "ipython3",
   "version": "3.7.3"
  }
 },
 "nbformat": 4,
 "nbformat_minor": 4
}
